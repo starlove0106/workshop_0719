{
 "cells": [
  {
   "cell_type": "markdown",
   "id": "ae911f69",
   "metadata": {},
   "source": [
    "# 태양의 움직임을 고려하여 집을 설계하여 봅시다.\n",
    "\n",
    "### 과학 6학년 2단원. 계절의 변화\n",
    "\n",
    "-초등학교 6학년 학생을 대상으로 한 수업이기 때문에 학생이 직접 코드를 작성하지 않고, 교사가 작성한 코드를 통해 그래프를 그리는데 도움을 받고 해석하는 것을 주로 합니다.</br>\n",
    "-따라서 ★★안에 값을 넣고 돌리지 않으면 코드 에러가 나기 때문에 그 아래 '학생 예시'로 학생이 값을 넣었다고 생각한 코드로 돌려야 합니다."
   ]
  },
  {
   "cell_type": "markdown",
   "id": "a85855bc",
   "metadata": {},
   "source": [
    "<img src='home.png' width=200px> \n",
    "\n",
    "<p style=\"background-color:powderblue;font-size:120%\"> long long time ago..아주아주 먼 옛날.<br><br>에어컨과 히터가 없던 시절, 내 집 마련의 꿈을 안고 여러분은 건축가가 되어 집을 지으려고 합니다. <br><br> 건물은 어느정도 세웠는데..지붕이 말썽입니다. </p>\n",
    "\n",
    "<p style=\"background-color:coral;font-size:120%\"><b> 지붕은 왜 필요할까요? </b></p>"
   ]
  },
  {
   "cell_type": "code",
   "execution_count": 1,
   "id": "4d4645d9",
   "metadata": {},
   "outputs": [
    {
     "name": "stdout",
     "output_type": "stream",
     "text": [
      "지붕은 왜 필요할까요?해를 막기 위해\n",
      "해를 막기 위해 이라고 생각했군요\n",
      "지붕으로 해를 막아 여름에는 그늘을 만들어주고, 겨울에는 햇볕이 들어오도록 해서 집을 따뜻하게 할 순 없을까요?\n",
      "문제를 해결하기 위해 알아야 할 것은 무엇일까요?해의 움직임\n",
      "해의 움직임을 알아봅시다.\n"
     ]
    }
   ],
   "source": [
    "answer26=input('지붕은 왜 필요할까요?')\n",
    "\n",
    "print(answer26, '이라고 생각했군요')\n",
    "\n",
    "print('지붕으로 해를 막아 여름에는 그늘을 만들어주고, 겨울에는 햇볕이 들어오도록 해서 집을 따뜻하게 할 순 없을까요?')\n",
    "\n",
    "answer27=input('문제를 해결하기 위해 알아야 할 것은 무엇일까요?')\n",
    "\n",
    "print('해의 움직임을 알아봅시다.')"
   ]
  },
  {
   "cell_type": "markdown",
   "id": "080778b0",
   "metadata": {},
   "source": [
    "## 1. 하루 동안의 태양의 고도, 그림자의 길이, 기온 측정하기\n",
    "\n",
    "### 1-(1). 실험하고 데이터 기록하기"
   ]
  },
  {
   "cell_type": "markdown",
   "id": "75713240",
   "metadata": {},
   "source": [
    "<p style=font-size:120%;>하루 동안 <b>태양의 고도, 그림자의 길이, 기온</b>을 측정해봅시다. <br><br>\n",
    "    오전 9시 30분부터 1시간 간격으로 오후 3시 30분까지 <b>총 7번</b> 측정하게 됩니다.<br><br>\n",
    "사진과 같은 방법으로 태양의 고도와 그림자의 길이를 잽니다. 온도계로 그 때의 기온을 확인합니다. <br><br>\n",
    "여러분의 실험 결과를 아래에 기록해봅시다.<br><br>\n",
    "(★★안에 9시 30분부터 15시 30분까지 총 7개의 측정값을 순서대로 적습니다.)</p>\n",
    "\n",
    "<img src='altitudeimg.png' width=500px>\n"
   ]
  },
  {
   "cell_type": "code",
   "execution_count": null,
   "id": "d12846b8",
   "metadata": {},
   "outputs": [],
   "source": [
    "#학생들은 ★★ 안에 실험으로 측정한 값을 입력함으로써 출력된 그래프를 해석함\n",
    "import matplotlib.pyplot as plt\n",
    "import numpy as np\n",
    "\n",
    "x=['09:30', '10:30', '11:30', '12:30', '13:30', '14:30', '15:30']\n",
    "y_alt=['★여기에 태양의 고도를 적어주세요. 태양의 고도 사이에는 쉼표를 적어주세요.★']\n",
    "\n",
    "plt.figure(figsize=(10,6))\n",
    "plt.rc('font', family='NanumGothic')\n",
    "plt.title('태양 고도')\n",
    "plt.xlabel('측정 시간(시:분)')\n",
    "plt.ylabel('태양 고도(°)')\n",
    "plt.grid()\n",
    "plt.plot(x, y_alt, marker='o')\n",
    "plt.show()"
   ]
  },
  {
   "cell_type": "code",
   "execution_count": 2,
   "id": "9ffb782e",
   "metadata": {},
   "outputs": [
    {
     "data": {
      "image/png": "[encoded data removed]",
      "text/plain": [
       "<Figure size 720x432 with 1 Axes>"
      ]
     },
     "metadata": {
      "needs_background": "light"
     },
     "output_type": "display_data"
    }
   ],
   "source": [
    "#학생 완성 예시\n",
    "\n",
    "import matplotlib.pyplot as plt\n",
    "import numpy as np\n",
    "\n",
    "x=['09:30', '10:30', '11:30', '12:30', '13:30', '14:30', '15:30']\n",
    "y_alt=[35, 44, 50, 52, 49, 42, 33]\n",
    "\n",
    "plt.figure(figsize=(10,6))\n",
    "plt.rc('font', family='NanumGothic')\n",
    "plt.rcParams[\"font.size\"] = 15\n",
    "plt.title('태양 고도')\n",
    "plt.xlabel('측정 시간(시:분)')\n",
    "plt.ylabel('태양 고도(°)')\n",
    "plt.grid()\n",
    "plt.plot(x, y_alt, marker='o')\n",
    "plt.show()"
   ]
  },
  {
   "cell_type": "code",
   "execution_count": 3,
   "id": "e3749152",
   "metadata": {},
   "outputs": [
    {
     "name": "stdout",
     "output_type": "stream",
     "text": [
      "가로축은 무엇을 나타낸 것인가요?측정시간\n",
      "정답입니다\n",
      "세로축은 무엇을 나타낸 것인가요?태양고도\n",
      "정답입니다\n",
      "태양의 고도가 가장 높은 것은 언제인가요? 00시 00분으로 입력12시 30분\n",
      "정답입니다\n",
      "하루 동안 태양의 고도는 어떻게 변화하나요?12시 30분이 가장 높다\n",
      "12시 30분이 가장 높다 라고 생각했군요\n"
     ]
    }
   ],
   "source": [
    "while(True):\n",
    "    answer7=input('가로축은 무엇을 나타낸 것인가요?')\n",
    "\n",
    "    if answer7=='측정시간' or answer7=='시간' or answer7=='측정 시각' or answer7=='측정 시간':\n",
    "        print('정답입니다')\n",
    "        break\n",
    "    \n",
    "    print('다시 생각해봅시다')\n",
    "    \n",
    "while(True):\n",
    "    answer8=input('세로축은 무엇을 나타낸 것인가요?')\n",
    "\n",
    "    if answer8=='태양고도' or answer8=='고도' or answer8=='태양의 고도' or answer8=='태양 고도':\n",
    "        print('정답입니다')\n",
    "        break\n",
    "    \n",
    "    print('다시 생각해봅시다')\n",
    "    \n",
    "while(True):\n",
    "    answer9=input('태양의 고도가 가장 높은 것은 언제인가요? 00시 00분으로 입력')\n",
    "\n",
    "    if answer9=='12시 30분' or answer9=='12시30분':\n",
    "        print('정답입니다')\n",
    "        break\n",
    "    \n",
    "    print('다시 생각해봅시다')\n",
    "    \n",
    "answer10=input('하루 동안 태양의 고도는 어떻게 변화하나요?')\n",
    "print(answer10, '라고 생각했군요')"
   ]
  },
  {
   "cell_type": "code",
   "execution_count": null,
   "id": "f7d8768e",
   "metadata": {},
   "outputs": [],
   "source": [
    "#학생들은 ★★ 안에 실험으로 측정한 값을 입력함으로써 출력된 그래프를 해석함\n",
    "import matplotlib.pyplot as plt\n",
    "import numpy as np\n",
    "\n",
    "x=['09:30', '10:30', '11:30', '12:30', '13:30', '14:30', '15:30']\n",
    "y_shadow=['★여기에 그림자의 길이를 적어주세요. 그림자의 길이 사이에는 쉼표를 적어주세요.★']\n",
    "\n",
    "plt.rc('font', family='NanumGothic')\n",
    "plt.figure(figsize=(10,6))\n",
    "plt.title('그림자 길이')\n",
    "plt.xlabel('측정 시간(시:분)')\n",
    "plt.ylabel('그림자 길이(cm)')\n",
    "plt.plot(x, y_shadow, marker='o', color='darkorange')\n",
    "plt.grid()\n",
    "plt.show()"
   ]
  },
  {
   "cell_type": "code",
   "execution_count": 4,
   "id": "b5a8a9ed",
   "metadata": {},
   "outputs": [
    {
     "data": {
      "image/png": "[encoded data removed]",
      "text/plain": [
       "<Figure size 720x432 with 1 Axes>"
      ]
     },
     "metadata": {
      "needs_background": "light"
     },
     "output_type": "display_data"
    }
   ],
   "source": [
    "#학생 완성 예시\n",
    "\n",
    "import matplotlib.pyplot as plt\n",
    "import numpy as np\n",
    "\n",
    "x=['09:30', '10:30', '11:30', '12:30', '13:30', '14:30', '15:30']\n",
    "y_shadow=[14.3, 10.4, 8.4, 7.8, 8.7, 11.1, 15.4]\n",
    "\n",
    "plt.rc('font', family='NanumGothic')\n",
    "plt.rcParams[\"font.size\"] = 15\n",
    "plt.figure(figsize=(10,6))\n",
    "plt.title('그림자 길이')\n",
    "plt.xlabel('측정 시간(시:분)')\n",
    "plt.ylabel('그림자 길이(cm)')\n",
    "plt.plot(x, y_shadow, marker='o', color='darkorange')\n",
    "plt.grid()\n",
    "plt.show()"
   ]
  },
  {
   "cell_type": "code",
   "execution_count": 5,
   "id": "62f63bdd",
   "metadata": {},
   "outputs": [
    {
     "name": "stdout",
     "output_type": "stream",
     "text": [
      "가로축은 무엇을 나타낸 것인가요?측정시간\n",
      "정답입니다\n",
      "세로축은 무엇을 나타낸 것인가요?그림자의 길이\n",
      "정답입니다\n",
      "그림자의 길이가 가장 짧은 때는 언제인가요? 00시 00분으로 입력2시 30분\n",
      "다시 생각해봅시다\n",
      "그림자의 길이가 가장 짧은 때는 언제인가요? 00시 00분으로 입력12시 30분\n",
      "정답입니다\n",
      "하루 동안 그림자의 길이는 어떻게 변화하나요?12시 30분이 가장 짧다\n",
      "12시 30분이 가장 짧다 라고 생각했군요\n"
     ]
    }
   ],
   "source": [
    "while(True):\n",
    "    answer11=input('가로축은 무엇을 나타낸 것인가요?')\n",
    "\n",
    "    if answer11=='측정시간' or answer11=='시간' or answer11=='측정 시각' or answer11=='측정 시간':\n",
    "        print('정답입니다')\n",
    "        break\n",
    "    \n",
    "    print('다시 생각해봅시다')\n",
    "    \n",
    "while(True):\n",
    "    answer12=input('세로축은 무엇을 나타낸 것인가요?')\n",
    "\n",
    "    if answer12=='그림자 길이' or answer12=='그림자의길이' or answer12=='그림자 길이' or answer12=='그림자의 길이':\n",
    "        print('정답입니다')\n",
    "        break\n",
    "    if answer12=='길이':\n",
    "        print('어떤 길이인가요?')\n",
    "    \n",
    "    print('다시 생각해봅시다')\n",
    "    \n",
    "while(True):\n",
    "    answer13=input('그림자의 길이가 가장 짧은 때는 언제인가요? 00시 00분으로 입력')\n",
    "\n",
    "    if answer13=='12시 30분' or answer13=='12시30분':\n",
    "        print('정답입니다')\n",
    "        break\n",
    "    \n",
    "    print('다시 생각해봅시다')\n",
    "    \n",
    "answer14=input('하루 동안 그림자의 길이는 어떻게 변화하나요?')\n",
    "print(answer14, '라고 생각했군요')"
   ]
  },
  {
   "cell_type": "code",
   "execution_count": null,
   "id": "f87b2cff",
   "metadata": {},
   "outputs": [],
   "source": [
    "#학생들은 ★★ 안에 실험으로 측정한 값을 입력함으로써 출력된 그래프를 해석함\n",
    "import matplotlib.pyplot as plt\n",
    "import numpy as np\n",
    "\n",
    "x=['09:30', '10:30', '11:30', '12:30', '13:30', '14:30', '15:30']\n",
    "y_temp=['★여기에 기온을 적어주세요. 기온 사이에는 쉼표를 적어주세요.★']\n",
    "\n",
    "plt.rc('font', family='NanumGothic')\n",
    "plt.figure(figsize=(10,6))\n",
    "plt.title('기온')\n",
    "plt.xlabel('측정 시간(시:분)')\n",
    "plt.ylabel('기온(℃)')\n",
    "plt.plot(x, y_temp, marker='o', color='forestgreen')\n",
    "plt.grid()\n",
    "plt.show()"
   ]
  },
  {
   "cell_type": "code",
   "execution_count": 6,
   "id": "204cf161",
   "metadata": {},
   "outputs": [
    {
     "data": {
      "image/png": "[encoded data removed]",
      "text/plain": [
       "<Figure size 720x432 with 1 Axes>"
      ]
     },
     "metadata": {
      "needs_background": "light"
     },
     "output_type": "display_data"
    }
   ],
   "source": [
    "#학생 완성 예시\n",
    "\n",
    "import matplotlib.pyplot as plt\n",
    "import numpy as np\n",
    "\n",
    "x=['09:30', '10:30', '11:30', '12:30', '13:30', '14:30', '15:30']\n",
    "y_temp=[22.7, 23.7, 25.1, 25.9, 26.8, 27.6, 27.1]\n",
    "\n",
    "plt.rc('font', family='NanumGothic')\n",
    "plt.rcParams[\"font.size\"] = 15\n",
    "plt.figure(figsize=(10,6))\n",
    "plt.title('기온')\n",
    "plt.xlabel('측정 시간(시:분)')\n",
    "plt.ylabel('기온(℃)')\n",
    "plt.plot(x, y_temp, marker='o', color='forestgreen')\n",
    "plt.grid()\n",
    "plt.show()"
   ]
  },
  {
   "cell_type": "code",
   "execution_count": 7,
   "id": "8ebeca39",
   "metadata": {},
   "outputs": [
    {
     "name": "stdout",
     "output_type": "stream",
     "text": [
      "가로축은 무엇을 나타낸 것인가요?측정시간\n",
      "정답입니다\n",
      "세로축은 무엇을 나타낸 것인가요?기온\n",
      "정답입니다\n",
      "기온이 가장 높은 때는 언제인가요? 00시 00분으로 입력14시 30분\n",
      "정답입니다\n",
      "기온이 12시 30분이 아닌 14시 30분에 가장 높은 이유는 무엇일까요?지표면이 데워지는데 시간이 필요하다\n",
      "지표면이 데워지는데 시간이 필요하다 라고 생각했군요\n"
     ]
    }
   ],
   "source": [
    "while(True):\n",
    "    answer18=input('가로축은 무엇을 나타낸 것인가요?')\n",
    "\n",
    "    if answer18=='측정시간' or answer18=='시간' or answer18=='측정 시각' or answer18=='측정 시간':\n",
    "        print('정답입니다')\n",
    "        break\n",
    "    \n",
    "    print('다시 생각해봅시다')\n",
    "    \n",
    "while(True):\n",
    "    answer19=input('세로축은 무엇을 나타낸 것인가요?')\n",
    "\n",
    "    if answer19=='기온':\n",
    "        print('정답입니다')\n",
    "        break\n",
    "    \n",
    "    print('다시 생각해봅시다')\n",
    "    \n",
    "while(True):\n",
    "    answer20=input('기온이 가장 높은 때는 언제인가요? 00시 00분으로 입력')\n",
    "\n",
    "    if answer20=='14시 30분':\n",
    "        print('정답입니다')\n",
    "        break\n",
    "    \n",
    "    print('다시 생각해봅시다')\n",
    "    \n",
    "answer21=input('기온이 12시 30분이 아닌 14시 30분에 가장 높은 이유는 무엇일까요?')\n",
    "print(answer21, '라고 생각했군요')"
   ]
  },
  {
   "cell_type": "markdown",
   "id": "dcc3ec9a",
   "metadata": {},
   "source": [
    "### 1-(2). 실험 데이터 해석하기\n",
    "<p style=font-size:120%;><b>하루동안</b> 태양의 고도, 그림자의 길이, 기온 사이에는 어떤 <b>관계</b>가 있을까요? <br><br> 여러분이 측정한 값으로 그린 3개의 그래프를 겹쳐봅시다.</p>"
   ]
  },
  {
   "cell_type": "code",
   "execution_count": 9,
   "id": "9006b8e6",
   "metadata": {},
   "outputs": [
    {
     "data": {
      "image/png": "[encoded data removed]",
      "text/plain": [
       "<Figure size 720x432 with 1 Axes>"
      ]
     },
     "metadata": {},
     "output_type": "display_data"
    }
   ],
   "source": [
    "plt.rc('font', family='NanumGothic')\n",
    "plt.rcParams[\"font.size\"] = 15\n",
    "\n",
    "\n",
    "y_alt2=y_alt\n",
    "y_shadow2=y_shadow\n",
    "y_temp2=y_temp\n",
    "\n",
    "scale_alt = (max(y_alt) - min(y_alt)) / 40\n",
    "scale_shadow = (max(y_shadow) - min(y_shadow)) / 40\n",
    "scale_temp = (max(y_temp) - min(y_temp)) / 40\n",
    "\n",
    "min_y_alt = min(y_alt)\n",
    "min_y_shadow = min(y_shadow)\n",
    "min_y_temp = min(y_temp)\n",
    "\n",
    "for i in range(len(x)):\n",
    "    y_alt2[i] = (y_alt2[i] - min_y_alt) / scale_alt\n",
    "    y_shadow2[i] = (y_shadow2[i] -  min_y_shadow)/ scale_shadow\n",
    "    y_temp2[i] = (y_temp2[i] - min_y_temp)/ scale_temp\n",
    "\n",
    "plt.figure(figsize=(10,6))\n",
    "plt.plot(x,y_alt2, marker='o')\n",
    "plt.plot(x,y_shadow2, marker='o')\n",
    "plt.plot(x,y_temp2, marker='o')\n",
    "plt.xlabel('측정 시각')\n",
    "plt.legend(['고도', '그림자의 길이', '기온'], loc='upper left')\n",
    "\n",
    "plt.ylim([-10, 55])\n",
    "plt.yticks(color='w')\n",
    "plt.show()"
   ]
  },
  {
   "cell_type": "code",
   "execution_count": 10,
   "id": "c84c6249",
   "metadata": {},
   "outputs": [
    {
     "name": "stdout",
     "output_type": "stream",
     "text": [
      "고도 그래프와 모양이 비슷한 그래프는 무엇인가요?기온\n",
      "정답입니다\n",
      "고도 그래프와 모양이 반대인 그래프는 무엇인가요?그림자의 길이\n",
      "정답입니다\n"
     ]
    }
   ],
   "source": [
    "while(True):\n",
    "    answer15=input('고도 그래프와 모양이 비슷한 그래프는 무엇인가요?')\n",
    "\n",
    "    if answer15=='기온' or answer15=='기온 그래프' or answer15=='기온그래프':\n",
    "        print('정답입니다')\n",
    "        break\n",
    "    \n",
    "    print('다시 생각해봅시다')\n",
    "\n",
    "while(True):\n",
    "    answer16=input('고도 그래프와 모양이 반대인 그래프는 무엇인가요?')\n",
    "\n",
    "    if answer16=='그림자의 길이' or answer16=='그림자의 길이 그래프':\n",
    "        print('정답입니다')\n",
    "        break\n",
    "    \n",
    "    print('다시 생각해봅시다')"
   ]
  },
  {
   "cell_type": "code",
   "execution_count": 11,
   "id": "06d7b714",
   "metadata": {},
   "outputs": [
    {
     "name": "stdout",
     "output_type": "stream",
     "text": [
      "아래 문장을 읽어보고 옳은 것을 생각해봅시다.\n",
      "태양 고도가 높아지면 그림자의 길이는 (짧아지고/길어지고) 기온은 (낮아진다/높아진다).\n"
     ]
    }
   ],
   "source": [
    "print('아래 문장을 읽어보고 옳은 것을 생각해봅시다.')\n",
    "a='태양 고도가 높아지면 그림자의 길이는 (짧아지고/길어지고) 기온은 (낮아진다/높아진다).'\n",
    "print(a)"
   ]
  },
  {
   "cell_type": "code",
   "execution_count": 12,
   "id": "abdc6964",
   "metadata": {},
   "outputs": [
    {
     "name": "stdout",
     "output_type": "stream",
     "text": [
      "위의 문장 중 옳은 것을 골라 완성된 문장으로 적어봅시다. 띄어쓰기, 마침표 주의태양 고도가 높아지면 그림자의 길이는 짧아지고 기온은 높아진다.\n",
      "정답입니다\n"
     ]
    }
   ],
   "source": [
    "while(True):\n",
    "    answer17=input('위의 문장 중 옳은 것을 골라 완성된 문장으로 적어봅시다. 띄어쓰기, 마침표 주의')\n",
    "\n",
    "    if answer17=='태양 고도가 높아지면 그림자의 길이는 짧아지고 기온은 높아진다.':\n",
    "        print('정답입니다')\n",
    "        break"
   ]
  },
  {
   "cell_type": "markdown",
   "id": "a2374557",
   "metadata": {},
   "source": [
    "## 2. 계절에 따라 태양의 남중고도와 낮의 길이는 어떻게 달라질까요?\n",
    "\n",
    "### 2-(1). 계절별 데이터 수집하기\n",
    "\n",
    "계절이 달라지면, 낮의 길이는 달라질까요?\n",
    "계절에 따라 달라지는 여러분의 생활을 떠올려봅시다."
   ]
  },
  {
   "cell_type": "code",
   "execution_count": 13,
   "id": "66c2a86a",
   "metadata": {},
   "outputs": [
    {
     "name": "stdout",
     "output_type": "stream",
     "text": [
      "계절에 따라 낮의 길이가 달라질까요?(네 또는 아니오로 입력)네\n",
      "그렇다면 낮의 길이가 가장 긴 계절은 언제일까요?여름\n",
      "데이터를 통해 확인해봅시다\n",
      "계절에 따라 남중고도가 달라질까요?(네 또는 아니오로 입력)네\n",
      "그렇다면 태양의 남중고도가 가장 높은 계절은 언제일까요?여름\n",
      "데이터를 통해 확인해봅시다\n"
     ]
    }
   ],
   "source": [
    "answer4=input('계절에 따라 낮의 길이가 달라질까요?(네 또는 아니오로 입력)')\n",
    "\n",
    "if answer4=='네':\n",
    "    input('그렇다면 낮의 길이가 가장 긴 계절은 언제일까요?')\n",
    "    print('데이터를 통해 확인해봅시다')\n",
    "else:\n",
    "        print('데이터를 통해 확인해봅시다')\n",
    "        \n",
    "answer5=input('계절에 따라 남중고도가 달라질까요?(네 또는 아니오로 입력)')\n",
    "\n",
    "if answer5=='네':\n",
    "    input('그렇다면 태양의 남중고도가 가장 높은 계절은 언제일까요?')\n",
    "    print('데이터를 통해 확인해봅시다')\n",
    "else:\n",
    "        print('데이터를 통해 확인해봅시다')"
   ]
  },
  {
   "cell_type": "markdown",
   "id": "54791278",
   "metadata": {},
   "source": [
    "<p style=font-size:120%>아래의 '홈페이지'를 클릭하여 사이트로 이동해봅시다.<br><br> 우리 학교의 2022년 3월부터 2023년 2월까지 <b>월별로 20일</b>의 낮의 길이, 남중고도 시각, 남중고도를 찾아 입력해봅시다. </p>\n",
    "\n",
    "<a href='https://astro.kasi.re.kr/life/pageView/9'> (1) 낮의 길이와 남중시각 홈페이지 </a><br>\n",
    "\n",
    "<a href='https://astro.kasi.re.kr/life/pageView/10'> (2) 남중고도 홈페이지 </a> "
   ]
  },
  {
   "cell_type": "markdown",
   "id": "4fb60742",
   "metadata": {},
   "source": [
    "<html>\n",
    "<body>\n",
    "<table>\n",
    "    <tr>\n",
    "        <td> <img src='img1.png' width=500px> </td>\n",
    "        <td> <img src='img2.png' width=500px> </td>\n",
    "    </tr>\n",
    "    <tr>\n",
    "        <td style='text-align:center;font-size:150%;'> ① 사이트 (1)로 이동하여 낮의 길이, 남중시각 검색 </td>\n",
    "        <td style='text-align:center;font-size:150%;'> ② 우리학교의 매달 20일 낮의길이, 남중시각 확인 </td>\n",
    "    </tr>\n",
    "    <tr>\n",
    "        <td><img src='img3.png' width=500px></td>\n",
    "        <td><img src='img4.png' width=500px></td>\n",
    "    </tr>\n",
    "    <tr>\n",
    "        <td style='text-align:center;font-size:150%;'> ③ 사이트 (2)로 이동하여 남중고도 검색 </td>\n",
    "        <td style='text-align:center;font-size:150%;'> ④ 우리학교의 남중고도 확인 </td>\n",
    "    </tr>\n",
    "</table>\n",
    "</body>\n",
    "</html>"
   ]
  },
  {
   "cell_type": "markdown",
   "id": "5e7c58b1",
   "metadata": {},
   "source": [
    "## 2. 계절에 따라 태양의 남중고도와 낮의 길이는 어떻게 달라질까요?\n",
    "\n",
    "### 2-(2). 수집한 데이터 정리하기"
   ]
  },
  {
   "cell_type": "code",
   "execution_count": null,
   "id": "f1f545ab",
   "metadata": {},
   "outputs": [],
   "source": [
    "%%html\n",
    "<!--학생들은 ★★ 안에 실험으로 측정한 값을 입력함으로써 출력된 표를 해석함-->\n",
    "<html>\n",
    "<head>\n",
    "<style>\n",
    "table, td, th {\n",
    "    border: 1px solid;\n",
    "}\n",
    "table {\n",
    "    border-collapse: collapse;\n",
    "    width: 100%\n",
    "}\n",
    "\n",
    "th, td {\n",
    "    text-align: center;\n",
    "    padding: 1px;\n",
    "}\n",
    "</style>\n",
    "</head>\n",
    "<body>\n",
    "<h2>계절에 따른 낮의 길이와 남중고도 변화 </h2>\n",
    "\n",
    "<table>\n",
    "    <tr>\n",
    "        <th style=width:10%;>계절</th>\n",
    "        <th style=width:10%;>월</th>\n",
    "        <th style=width:20%;>낮의 길이 (시간)</th>\n",
    "        <th style=width:20%;>남중 시각</th>\n",
    "        <th style=width:20%;>태양의 남중고도 (°)</th>\n",
    "\n",
    "    </tr>\n",
    "    <tr>\n",
    "        <td rowspan=3>봄</td>\n",
    "        <td>3월</td>\n",
    "        <td>★3월 낮의 길이 입력★</td>\n",
    "        <td>★3월 남중시각 입력★</td>\n",
    "        <td>★3월 남중고도 입력★</td>\n",
    "    </tr>\n",
    "     <tr>\n",
    "        <td>4월</td>\n",
    "        <td>★4월 낮의 길이 입력★</td>\n",
    "        <td>★4월 남중시각 입력★</td>\n",
    "        <td>★4월 남중고도 입력★</td>\n",
    "    </tr>\n",
    "     <tr>\n",
    "        <td>5월</td>\n",
    "        <td>★5월 낮의 길이 입력★</td>\n",
    "        <td>★5월 남중시각 입력★</td>\n",
    "        <td>★5월 남중고도 입력★</td>\n",
    "    </tr>\n",
    "     <tr>\n",
    "        <td rowspan=3>여름</td>\n",
    "        <td>6월</td>\n",
    "        <td>★6월 낮의 길이 입력★</td>\n",
    "        <td>★6월 남중시각 입력★</td>\n",
    "        <td>★6월 남중고도 입력★</td>\n",
    "    </tr>\n",
    "     <tr>\n",
    "        <td>7월</td>\n",
    "        <td>★7월 낮의 길이 입력★</td>\n",
    "        <td>★7월 남중시각 입력★</td>\n",
    "        <td>★7월 남중고도 입력★</td>\n",
    "    </tr>\n",
    "     <tr>\n",
    "        <td>8월</td>\n",
    "        <td>★8월의 낮의 길이 입력★</td>\n",
    "        <td>★8월 남중시각 입력★</td>\n",
    "        <td>★8월 남중고도 입력★</td>\n",
    "    </tr>\n",
    "    <tr>\n",
    "        <td rowspan=3>가을</td>\n",
    "        <td>9월</td>\n",
    "        <td>★9월의 낮의 길이 입력★</td>\n",
    "        <td>★9월 남중시각 입력★</td>\n",
    "        <td>★9월 남중고도 입력★</td>\n",
    "    </tr>\n",
    "    <tr>\n",
    "        <td>10월</td>\n",
    "        <td>★10월의 낮의 길이 입력★</td>\n",
    "        <td>★10월 남중시각 입력★</td>\n",
    "        <td>★10월 남중고도 입력★</td>\n",
    "    </tr>\n",
    "    <tr>\n",
    "        <td>11월</td>\n",
    "        <td>★11월 낮의 길이 입력★</td>\n",
    "        <td>★11월 남중시각 입력★</td>\n",
    "        <td>★11월 남중고도 입력★</td>\n",
    "    </tr>\n",
    "    <tr>\n",
    "        <td rowspan=3>겨울</td>\n",
    "        <td>12월</td>\n",
    "        <td>★12월 낮의 길이 입력★</td>\n",
    "        <td>★12월 남중시각 입력★</td>\n",
    "        <td>★12월 남중고도 입력★</td>\n",
    "    </tr>\n",
    "    <tr>\n",
    "        <td>1월</td>\n",
    "        <td>★1월 낮의 길이 입력★</td>\n",
    "        <td>★1월 남중시각 입력★</td>\n",
    "        <td>★1월 남중고도 입력★</td>\n",
    "    </tr>\n",
    "    <tr>\n",
    "        <td>2월</td>\n",
    "        <td>★2월 낮의 길이 입력★</td>\n",
    "        <td>★2월 남중시각 입력★</td>\n",
    "        <td>★2월 남중고도 입력★</td>\n",
    "    </tr>\n",
    "</table>\n",
    "</body>\n",
    "</html>"
   ]
  },
  {
   "cell_type": "code",
   "execution_count": 15,
   "id": "58396772",
   "metadata": {},
   "outputs": [
    {
     "data": {
      "text/html": [
       "<!--학생 완성 예시-->\n",
       "<html>\n",
       "<head>\n",
       "<style>\n",
       "table, td, th {\n",
       "    border: 1px solid;\n",
       "}\n",
       "table {\n",
       "    border-collapse: collapse;\n",
       "    width: 100%\n",
       "}\n",
       "\n",
       "th, td {\n",
       "    text-align: center;\n",
       "    padding: 1px;\n",
       "}\n",
       "</style>\n",
       "</head>\n",
       "<body>\n",
       "<h2>계절에 따른 낮의 길이와 남중고도 변화 </h2>\n",
       "\n",
       "<table>\n",
       "    <tr>\n",
       "        <th style=width:10%;>계절</th>\n",
       "        <th style=width:10%;>월</th>\n",
       "        <th style=width:20%;>낮의 길이 (시간)</th>\n",
       "        <th style=width:20%;>남중 시각</th>\n",
       "        <th style=width:20%;>태양의 남중고도 (°)</th>\n",
       "\n",
       "    </tr>\n",
       "    <tr>\n",
       "        <td rowspan=3>봄</td>\n",
       "        <td>3월</td>\n",
       "        <td>12시간 6분</td>\n",
       "        <td>12시 39분</td>\n",
       "        <td>51</td>\n",
       "    </tr>\n",
       "     <tr>\n",
       "        <td>4월</td>\n",
       "        <td>13시간 20분</td>\n",
       "        <td>12시 31분</td>\n",
       "        <td>63</td>\n",
       "    </tr>\n",
       "     <tr>\n",
       "        <td>5월</td>\n",
       "        <td>14시간 18분</td>\n",
       "        <td>12시 28분</td>\n",
       "        <td>71</td>\n",
       "    </tr>\n",
       "     <tr>\n",
       "        <td rowspan=3>여름</td>\n",
       "        <td>6월</td>\n",
       "        <td>14시간 45분</td>\n",
       "        <td>12시 33분</td>\n",
       "        <td>74</td>\n",
       "    </tr>\n",
       "     <tr>\n",
       "        <td>7월</td>\n",
       "        <td>14시간 24분</td>\n",
       "        <td>12시 38분</td>\n",
       "        <td>71</td>\n",
       "    </tr>\n",
       "     <tr>\n",
       "        <td>8월</td>\n",
       "        <td>13시간 27분</td>\n",
       "        <td>12시 35분</td>\n",
       "        <td>63</td>\n",
       "    </tr>\n",
       "    <tr>\n",
       "        <td rowspan=3>가을</td>\n",
       "        <td>9월</td>\n",
       "        <td>12시간 15분</td>\n",
       "        <td>12시 25분</td>\n",
       "        <td>53</td>\n",
       "    </tr>\n",
       "    <tr>\n",
       "        <td>10월</td>\n",
       "        <td>11시간 4분</td>\n",
       "        <td>12시 17분</td>\n",
       "        <td>41</td>\n",
       "    </tr>\n",
       "    <tr>\n",
       "        <td>11월</td>\n",
       "        <td>10시간 1분</td>\n",
       "        <td>12시 17분</td>\n",
       "        <td>31</td>\n",
       "    </tr>\n",
       "    <tr>\n",
       "        <td rowspan=3>겨울</td>\n",
       "        <td>12월</td>\n",
       "        <td>9시간 34분</td>\n",
       "        <td>12시 29분</td>\n",
       "        <td>28</td>\n",
       "    </tr>\n",
       "    <tr>\n",
       "        <td>1월</td>\n",
       "        <td>9시간 57분</td>\n",
       "        <td>12시 42분</td>\n",
       "        <td>31</td>\n",
       "    </tr>\n",
       "    <tr>\n",
       "        <td>2월</td>\n",
       "        <td>10시간 59분</td>\n",
       "        <td>12시 45분</td>\n",
       "        <td>40</td>\n",
       "    </tr>\n",
       "</table>\n",
       "</body>\n",
       "</html>\n"
      ],
      "text/plain": [
       "<IPython.core.display.HTML object>"
      ]
     },
     "metadata": {},
     "output_type": "display_data"
    }
   ],
   "source": [
    "%%html\n",
    "<!--학생 완성 예시-->\n",
    "<html>\n",
    "<head>\n",
    "<style>\n",
    "table, td, th {\n",
    "    border: 1px solid;\n",
    "}\n",
    "table {\n",
    "    border-collapse: collapse;\n",
    "    width: 100%\n",
    "}\n",
    "\n",
    "th, td {\n",
    "    text-align: center;\n",
    "    padding: 1px;\n",
    "}\n",
    "</style>\n",
    "</head>\n",
    "<body>\n",
    "<h2>계절에 따른 낮의 길이와 남중고도 변화 </h2>\n",
    "\n",
    "<table>\n",
    "    <tr>\n",
    "        <th style=width:10%;>계절</th>\n",
    "        <th style=width:10%;>월</th>\n",
    "        <th style=width:20%;>낮의 길이 (시간)</th>\n",
    "        <th style=width:20%;>남중 시각</th>\n",
    "        <th style=width:20%;>태양의 남중고도 (°)</th>\n",
    "\n",
    "    </tr>\n",
    "    <tr>\n",
    "        <td rowspan=3>봄</td>\n",
    "        <td>3월</td>\n",
    "        <td>12시간 6분</td>\n",
    "        <td>12시 39분</td>\n",
    "        <td>51</td>\n",
    "    </tr>\n",
    "     <tr>\n",
    "        <td>4월</td>\n",
    "        <td>13시간 20분</td>\n",
    "        <td>12시 31분</td>\n",
    "        <td>63</td>\n",
    "    </tr>\n",
    "     <tr>\n",
    "        <td>5월</td>\n",
    "        <td>14시간 18분</td>\n",
    "        <td>12시 28분</td>\n",
    "        <td>71</td>\n",
    "    </tr>\n",
    "     <tr>\n",
    "        <td rowspan=3>여름</td>\n",
    "        <td>6월</td>\n",
    "        <td>14시간 45분</td>\n",
    "        <td>12시 33분</td>\n",
    "        <td>74</td>\n",
    "    </tr>\n",
    "     <tr>\n",
    "        <td>7월</td>\n",
    "        <td>14시간 24분</td>\n",
    "        <td>12시 38분</td>\n",
    "        <td>71</td>\n",
    "    </tr>\n",
    "     <tr>\n",
    "        <td>8월</td>\n",
    "        <td>13시간 27분</td>\n",
    "        <td>12시 35분</td>\n",
    "        <td>63</td>\n",
    "    </tr>\n",
    "    <tr>\n",
    "        <td rowspan=3>가을</td>\n",
    "        <td>9월</td>\n",
    "        <td>12시간 15분</td>\n",
    "        <td>12시 25분</td>\n",
    "        <td>53</td>\n",
    "    </tr>\n",
    "    <tr>\n",
    "        <td>10월</td>\n",
    "        <td>11시간 4분</td>\n",
    "        <td>12시 17분</td>\n",
    "        <td>41</td>\n",
    "    </tr>\n",
    "    <tr>\n",
    "        <td>11월</td>\n",
    "        <td>10시간 1분</td>\n",
    "        <td>12시 17분</td>\n",
    "        <td>31</td>\n",
    "    </tr>\n",
    "    <tr>\n",
    "        <td rowspan=3>겨울</td>\n",
    "        <td>12월</td>\n",
    "        <td>9시간 34분</td>\n",
    "        <td>12시 29분</td>\n",
    "        <td>28</td>\n",
    "    </tr>\n",
    "    <tr>\n",
    "        <td>1월</td>\n",
    "        <td>9시간 57분</td>\n",
    "        <td>12시 42분</td>\n",
    "        <td>31</td>\n",
    "    </tr>\n",
    "    <tr>\n",
    "        <td>2월</td>\n",
    "        <td>10시간 59분</td>\n",
    "        <td>12시 45분</td>\n",
    "        <td>40</td>\n",
    "    </tr>\n",
    "</table>\n",
    "</body>\n",
    "</html>"
   ]
  },
  {
   "cell_type": "markdown",
   "id": "d0a66761",
   "metadata": {},
   "source": [
    "<p style=font-size:120%>위 표에서 여름과 겨울의 낮의 길이를 비교해보고 적어봅시다.</p>"
   ]
  },
  {
   "cell_type": "code",
   "execution_count": 16,
   "id": "12146de1",
   "metadata": {},
   "outputs": [
    {
     "name": "stdout",
     "output_type": "stream",
     "text": [
      "여름과 겨울 중 낮의 길이가 더 긴 계절은 언제일까요?여름\n",
      "자료를 올바르게 해석했습니다!\n"
     ]
    }
   ],
   "source": [
    "while(True):\n",
    "    answer1=input('여름과 겨울 중 낮의 길이가 더 긴 계절은 언제일까요?')\n",
    "\n",
    "    if answer1=='여름':\n",
    "        print('자료를 올바르게 해석했습니다!')\n",
    "        break\n",
    "    \n",
    "    print('다시 한번 생각해보세요')"
   ]
  },
  {
   "cell_type": "markdown",
   "id": "8a454365",
   "metadata": {},
   "source": [
    "<p style=font-size:120%> 위 표에서 여름과 겨울의 태양의 남중고도를 비교해보고 적어봅시다.</p>"
   ]
  },
  {
   "cell_type": "code",
   "execution_count": 17,
   "id": "39e92731",
   "metadata": {},
   "outputs": [
    {
     "name": "stdout",
     "output_type": "stream",
     "text": [
      "여름과 겨울 중 태양의 남중고도가 더 높은 계절은 언제일까요?여름\n",
      "자료를 올바르게 해석했습니다!\n"
     ]
    }
   ],
   "source": [
    "while(True):\n",
    "    answer2=input('여름과 겨울 중 태양의 남중고도가 더 높은 계절은 언제일까요?')\n",
    "\n",
    "    if answer2=='여름':\n",
    "        print('자료를 올바르게 해석했습니다!')\n",
    "        break\n",
    "    \n",
    "    print('다시 한번 생각해보세요')"
   ]
  },
  {
   "cell_type": "code",
   "execution_count": 18,
   "id": "9d5297d2",
   "metadata": {},
   "outputs": [
    {
     "name": "stdout",
     "output_type": "stream",
     "text": [
      "위 표에서 알 수 있는 것을 자유롭게 적어봅시다.태양의 남중고도와 낮의 길이는 여름이 가장 높으며 길고 점점 낮아지고 짧아진다\n",
      "이어서 표를 그래프로 나타내봅시다\n"
     ]
    }
   ],
   "source": [
    "input('위 표에서 알 수 있는 것을 자유롭게 적어봅시다.')\n",
    "print('이어서 표를 그래프로 나타내봅시다')"
   ]
  },
  {
   "cell_type": "markdown",
   "id": "94ed270f",
   "metadata": {},
   "source": [
    "### 2-(3). 수집한 데이터 그래프로 나타내어 해석하기"
   ]
  },
  {
   "cell_type": "code",
   "execution_count": 19,
   "id": "3194e9d9",
   "metadata": {},
   "outputs": [
    {
     "name": "stdout",
     "output_type": "stream",
     "text": [
      "   date  daytime  altitude altitude time daytime2\n",
      "0    3월      726        52         12:40    12:06\n",
      "1    4월      800        63         12:31    13:20\n",
      "2    5월      858        72         12:28    14:18\n",
      "3    6월      885        75         12:33    14:45\n",
      "4    7월      864        73         12:38    14:24\n",
      "5    8월      807        64         12:35    13:27\n",
      "6    9월      735        53         12:26    12:15\n",
      "7   10월      664        42         12:17    11:04\n",
      "8   11월      603        32         12:17    10:03\n",
      "9   12월      574        29         12:29     9:34\n",
      "10   1월      598        32         12:43     9:58\n",
      "11   2월      659        41         12:46    10:59\n"
     ]
    }
   ],
   "source": [
    "import pandas as pd\n",
    "import numpy as np\n",
    "\n",
    "df=pd.read_csv('22data.csv')\n",
    "print(df)\n",
    "\n",
    "date=df['date']\n",
    "daytime=df['daytime']\n",
    "altitude=df['altitude']\n",
    "\n",
    "newdate=np.array(date)\n",
    "newdaytime=np.array(daytime)\n",
    "newaltitude=np.array(altitude)"
   ]
  },
  {
   "cell_type": "code",
   "execution_count": 20,
   "id": "909b874d",
   "metadata": {},
   "outputs": [
    {
     "data": {
      "image/png": "[encoded data removed]",
      "text/plain": [
       "<Figure size 1296x360 with 2 Axes>"
      ]
     },
     "metadata": {
      "needs_background": "light"
     },
     "output_type": "display_data"
    }
   ],
   "source": [
    "plt.rc('font', family='NanumGothic')\n",
    "\n",
    "plt.figure(figsize=(18,5))\n",
    "plt.subplot(1,2,1)\n",
    "plt.plot(newdate, newaltitude,marker='o')\n",
    "plt.ylabel('남중고도')\n",
    "plt.title('가. 계절별 태양의 남중고도')\n",
    "plt.tick_params(axis='x',pad=6)\n",
    "plt.grid()\n",
    "\n",
    "plt.subplot(1,2,2)\n",
    "plt.plot(newdate, newdaytime, color='darkorange', marker='o')\n",
    "plt.ylabel('낮의 길이(분)')\n",
    "plt.title('나. 계절별 낮의 길이')\n",
    "plt.tick_params(axis='x',pad=6)\n",
    "\n",
    "plt.grid()\n",
    "plt.show()"
   ]
  },
  {
   "cell_type": "code",
   "execution_count": 21,
   "id": "589d02bc",
   "metadata": {},
   "outputs": [
    {
     "name": "stdout",
     "output_type": "stream",
     "text": [
      "'가'그래프에서 태양의 남중고도가 가장 높은 계절은 언제인가요?6월\n",
      "다시 한번 생각해보세요\n",
      "'가'그래프에서 태양의 남중고도가 가장 높은 계절은 언제인가요?여름\n",
      "자료를 올바르게 해석했습니다!\n",
      "'가'그래프에서 태양의 남중고도가 가장 낮은 계절은 언제인가요?겨울\n",
      "자료를 올바르게 해석했습니다!\n"
     ]
    }
   ],
   "source": [
    "while(True):\n",
    "    answer20=input(\"'가'그래프에서 태양의 남중고도가 가장 높은 계절은 언제인가요?\")\n",
    "\n",
    "    if answer20=='여름':\n",
    "        print('자료를 올바르게 해석했습니다!')\n",
    "        break\n",
    "    \n",
    "    print('다시 한번 생각해보세요')\n",
    "    \n",
    "while(True):\n",
    "    answer21=input(\"'가'그래프에서 태양의 남중고도가 가장 낮은 계절은 언제인가요?\")\n",
    "\n",
    "    if answer21=='겨울':\n",
    "        print('자료를 올바르게 해석했습니다!')\n",
    "        break\n",
    "    \n",
    "    print('다시 한번 생각해보세요')"
   ]
  },
  {
   "cell_type": "code",
   "execution_count": 22,
   "id": "4d7eba8a",
   "metadata": {},
   "outputs": [
    {
     "name": "stdout",
     "output_type": "stream",
     "text": [
      "'나'그래프에서 낮의 길이가 가장 긴 계절은 언제인가요?여름\n",
      "자료를 올바르게 해석했습니다!\n",
      "'나'그래프에서 낮의 길이가 가장 짧은 계절은 언제인가요?겨울\n",
      "자료를 올바르게 해석했습니다!\n"
     ]
    }
   ],
   "source": [
    "while(True):\n",
    "    answer22=input(\"'나'그래프에서 낮의 길이가 가장 긴 계절은 언제인가요?\")\n",
    "\n",
    "    if answer22=='여름':\n",
    "        print('자료를 올바르게 해석했습니다!')\n",
    "        break\n",
    "    \n",
    "    print('다시 한번 생각해보세요')\n",
    "    \n",
    "while(True):\n",
    "    answer23=input(\"'나'그래프에서 낮의 길이가 가장 짧은 계절은 언제인가요?\")\n",
    "\n",
    "    if answer23=='겨울':\n",
    "        print('자료를 올바르게 해석했습니다!')\n",
    "        break\n",
    "    \n",
    "    print('다시 한번 생각해보세요')"
   ]
  },
  {
   "cell_type": "code",
   "execution_count": 23,
   "id": "92fabc2b",
   "metadata": {},
   "outputs": [
    {
     "name": "stdout",
     "output_type": "stream",
     "text": [
      "두 그래프의 모양은 어떠한가요?비슷하다\n",
      "그렇습니다. 남중고도 그래프와 낮의 길이 그래프는 모양이 매우 비슷합니다. 둘 사이의 관계를 알아봅시다\n",
      "태양의 남중고도가 높아지면 낮의 길이는 어떻게 될까요?길어진다\n",
      "자료를 올바르게 해석했습니다!\n",
      "태양의 남중고도가 낮아지면 낮의 길이는 어떻게 될까요?짧아진다\n",
      "자료를 올바르게 해석했습니다!\n"
     ]
    }
   ],
   "source": [
    "answer26=input('두 그래프의 모양은 어떠한가요?')\n",
    "print('그렇습니다. 남중고도 그래프와 낮의 길이 그래프는 모양이 매우 비슷합니다. 둘 사이의 관계를 알아봅시다')\n",
    "\n",
    "while(True):    \n",
    "    answer24=input('태양의 남중고도가 높아지면 낮의 길이는 어떻게 될까요?')\n",
    "    \n",
    "    if answer24=='길어진다' or answer24=='길어짐' or answer24=='길어진다.':\n",
    "        print('자료를 올바르게 해석했습니다!')\n",
    "        break\n",
    "    print('다시 한번 생각해보세요')\n",
    "\n",
    "while(True):    \n",
    "    answer25=input('태양의 남중고도가 낮아지면 낮의 길이는 어떻게 될까요?')\n",
    "    \n",
    "    if answer25=='짧아진다' or answer25=='짧아짐' or answer25=='짧아진다.':\n",
    "        print('자료를 올바르게 해석했습니다!')\n",
    "        break\n",
    "    print('다시 한번 생각해보세요')\n"
   ]
  },
  {
   "cell_type": "markdown",
   "id": "44782b68",
   "metadata": {},
   "source": [
    "## 3. 계절에 따른 태양을 고려하여 집 설계하기"
   ]
  },
  {
   "cell_type": "markdown",
   "id": "467791d7",
   "metadata": {},
   "source": [
    "<p style=font-size:120%;>우리 학교에 집을 짓는다면, 태양의 고도가 가장 높은 여름의 75도에는 <b>지붕이 태양을 막아서 집이 그늘이 되도록</b>해야 합니다. <br><br>\n",
    "    또한 태양의 고도가 가장 낮은 겨울의 29도를 생각하여 겨울에는 <b>햇볕이 집 안까지 들어오도록 하여 집 안이 따뜻하도록</b> 해야 합니다.</p>\n",
    "<img src='roof.png' width=300px>"
   ]
  },
  {
   "cell_type": "markdown",
   "id": "e21adbb0",
   "metadata": {},
   "source": [
    "<p style=font-size:120%;>여러분은 여름에는 시원하게, 겨울에는 따뜻하게 집을 만드는 건축가로 유명해졌습니다. 다른 나라에서도 집을 건축해달라는 의뢰가 있습니다.<br><br> 아래 주소로 이동하여 그 나라의 남중고도를 고려하여 집을 건축해봅시다. </p>\n",
    "\n",
    "<a href='https://www.suncalc.org/#/54.4459,-83.9482,2/2022.05.06/08:47/1/3'> <p style= color:red;font-size:120%;>(1) 지구본 남중고도 사이트 </p></a>\n",
    "    \n",
    "<ol style=font-size:120%>\n",
    "① 마우스를 움직여서 내가 원하는 위치로 이동한다. <br><br>\n",
    "② 날짜를 선택한다. <br><br>\n",
    "③ 바를 움직이며 시간을 변경한다. <br><br>\n",
    "④ Altitude : 태양의 고도 <br><br>\n",
    "⑤ TZ : 위치의 나라이름/도시이름 <br>\n",
    "</ol>"
   ]
  },
  {
   "cell_type": "code",
   "execution_count": null,
   "id": "f94b078d",
   "metadata": {},
   "outputs": [],
   "source": [
    "input('여러분이 만들고자 하는 집은 어느 나라에 위치하나요?')\n",
    "input('여름철 태양의 남중고도는 몇 도인가요?')\n",
    "input('겨울철 태양의 남중고도는 몇 도인가요?')"
   ]
  },
  {
   "cell_type": "markdown",
   "id": "a927caab",
   "metadata": {},
   "source": [
    "<a href='https://www.miricanvas.com/design'> <p style= color:red;font-size:120%;>(2) 미리캔버스 집 디자인 사이트 </p></a>\n",
    "\n",
    "<ol style=font-size:120%>\n",
    "① 태양을 2개 그린다(여름 태양, 겨울 태양) <br><br>\n",
    "② 선을 2개 그린다(여름의 남중고도, 겨울의 남중고도 표시) <br><br>\n",
    "③ 여름에는 햇빛이 들어오지 않게하고 겨울에는 햇빛이 집으로 들어오도록 지붕을 세운다. <br><br>\n",
    "④ 내가 설계한 집을 꾸민다. <br><br>\n",
    "⑤ 꾸민 집의 그림파일을 다운로드한다. <br>\n",
    "</ol>\n",
    "\n",
    "\n",
    "<a href='https://padlet.com/kdh01061/p82jvujy9l2dxsyy'> <p style= color:red;font-size:120%;>(3) 패들렛 집 디자인 게시 </p></a>\n",
    "\n",
    "<ol style=font-size:120%>\n",
    "① 세계지도가 그려진 패들렛에서 내가 집을 지을 위치를 선택한다. <br><br>\n",
    "② 미리캔버스에서 설계하고 다운로드한 이미지 파일을 업로드 한다. <br> <br>\n",
    "③ 제목에는 자기의 이름과 나라 이름을 적는다. <br><br>\n",
    "④ 내용에는 해당 나라의 여름의 남중고도, 겨울의 남중고도를 적는다. <br>\n",
    "</ol>"
   ]
  },
  {
   "cell_type": "code",
   "execution_count": 24,
   "id": "634e9c6b",
   "metadata": {},
   "outputs": [
    {
     "data": {
      "text/html": [
       "<html>\n",
       "<body>\n",
       "<table>\n",
       "    <tr>\n",
       "        <td> <img src='hanok.png' width=500px> </td>\n",
       "        <td> <img src='vietnam.png' width=500px> </td>\n",
       "        <td> <img src='thai.png' width=500px> </td>\n",
       "\n",
       "    </tr>\n",
       "    <tr>\n",
       "        <td style='text-align:center;font-size:150%;'> ① 우리나라의 한옥 </td>\n",
       "        <td style='text-align:center;font-size:150%;'> ② 베트남의 전통가옥 </td>\n",
       "        <td style='text-align:center;font-size:150%;'> ③ 태국의 전통가옥 </td>\n",
       "    </tr>\n",
       "</table>\n",
       "</body>\n",
       "</html>\n"
      ],
      "text/plain": [
       "<IPython.core.display.HTML object>"
      ]
     },
     "metadata": {},
     "output_type": "display_data"
    }
   ],
   "source": [
    "%%html\n",
    "<html>\n",
    "<body>\n",
    "<table>\n",
    "    <tr>\n",
    "        <td> <img src='hanok.png' width=500px> </td>\n",
    "        <td> <img src='vietnam.png' width=500px> </td>\n",
    "        <td> <img src='thai.png' width=500px> </td>\n",
    "\n",
    "    </tr>\n",
    "    <tr>\n",
    "        <td style='text-align:center;font-size:150%;'> ① 우리나라의 한옥 </td>\n",
    "        <td style='text-align:center;font-size:150%;'> ② 베트남의 전통가옥 </td>\n",
    "        <td style='text-align:center;font-size:150%;'> ③ 태국의 전통가옥 </td>\n",
    "    </tr>\n",
    "</table>\n",
    "</body>\n",
    "</html>"
   ]
  }
 ],
 "metadata": {
  "kernelspec": {
   "display_name": "Python 3 (ipykernel)",
   "language": "python",
   "name": "python3"
  },
  "language_info": {
   "codemirror_mode": {
    "name": "ipython",
    "version": 3
   },
   "file_extension": ".py",
   "mimetype": "text/x-python",
   "name": "python",
   "nbconvert_exporter": "python",
   "pygments_lexer": "ipython3",
   "version": "3.9.7"
  }
 },
 "nbformat": 4,
 "nbformat_minor": 5
}
